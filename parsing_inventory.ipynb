{
 "cells": [
  {
   "cell_type": "markdown",
   "id": "ff223af4",
   "metadata": {},
   "source": [
    "## This read in the annotated data file and converts it to a json-lines file to be read by the MCALentory app"
   ]
  },
  {
   "cell_type": "code",
   "execution_count": 1,
   "id": "4135d659",
   "metadata": {},
   "outputs": [],
   "source": [
    "import json\n",
    "import pandas as pd\n",
    "df = pd.read_excel('rv_Inventory_ContentAnalysis_forAnne.xlsx')\n",
    "columns = list(df)\n",
    "df.fillna('...', inplace=True)"
   ]
  },
  {
   "cell_type": "code",
   "execution_count": 15,
   "id": "b4c761a2",
   "metadata": {},
   "outputs": [],
   "source": [
    "def start_year(x, year):\n",
    "    try:\n",
    "        return int(x.split('-')[0]) if year=='START' else int(x.split('-')[1])\n",
    "    except:\n",
    "        return int(x)"
   ]
  },
  {
   "cell_type": "code",
   "execution_count": 16,
   "id": "aa40b1a5",
   "metadata": {},
   "outputs": [],
   "source": [
    "df['start_year'] = df['Period (in years)'].apply(lambda x: start_year(x, 'START'))\n",
    "df['end_year'] = df['Period (in years)'].apply(lambda x: start_year(x, 'END'))"
   ]
  },
  {
   "cell_type": "code",
   "execution_count": 17,
   "id": "d47bd1ca",
   "metadata": {},
   "outputs": [],
   "source": [
    "df['comparative'] =  df['Comparative studie? (Yes = 1)'].apply(lambda x: \"Yes\" if x==1 else \"No\")"
   ]
  },
  {
   "cell_type": "code",
   "execution_count": 18,
   "id": "91328d3a",
   "metadata": {},
   "outputs": [],
   "source": [
    "def remove_url(x):    \n",
    "    for i in [\"https:doi/full/\", \"https:doi/abs/\"]:\n",
    "        x = x.replace(i, \"\")\n",
    "    return x\n",
    "\n",
    "df['clean_doi'] = df['DOI article'].apply(remove_url)"
   ]
  },
  {
   "cell_type": "code",
   "execution_count": 19,
   "id": "938c8afb",
   "metadata": {},
   "outputs": [],
   "source": [
    "#df['Date of publishing'] = df['Date of publishing'].astype(str)\n",
    "json_str= df.to_json(orient='records', date_format='iso')\n",
    "data = json.loads(json_str)\n",
    "with open(\"MCAL_inventory.json\", mode=\"w\", encoding=\"utf-8\") as fo:\n",
    "    for entry in data:\n",
    "        fo.write(json.dumps(entry))\n",
    "        fo.write('\\n')"
   ]
  },
  {
   "cell_type": "code",
   "execution_count": 182,
   "id": "f0b1d0fe",
   "metadata": {},
   "outputs": [],
   "source": [
    "with open(\"MCAL_inventory.json\", \"r\") as fi:\n",
    "    data = [json.loads(line) for line in fi]"
   ]
  }
 ],
 "metadata": {
  "kernelspec": {
   "display_name": "Python 3 (ipykernel)",
   "language": "python",
   "name": "python3"
  },
  "language_info": {
   "codemirror_mode": {
    "name": "ipython",
    "version": 3
   },
   "file_extension": ".py",
   "mimetype": "text/x-python",
   "name": "python",
   "nbconvert_exporter": "python",
   "pygments_lexer": "ipython3",
   "version": "3.8.2"
  }
 },
 "nbformat": 4,
 "nbformat_minor": 5
}
